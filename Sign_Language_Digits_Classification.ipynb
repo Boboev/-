{
  "nbformat": 4,
  "nbformat_minor": 0,
  "metadata": {
    "kernelspec": {
      "display_name": "Python 3",
      "language": "python",
      "name": "python3"
    },
    "language_info": {
      "codemirror_mode": {
        "name": "ipython",
        "version": 3
      },
      "file_extension": ".py",
      "mimetype": "text/x-python",
      "name": "python",
      "nbconvert_exporter": "python",
      "pygments_lexer": "ipython3",
      "version": "3.8.3"
    },
    "papermill": {
      "duration": 442.833069,
      "end_time": "2020-12-17T20:35:59.003775",
      "environment_variables": {},
      "exception": null,
      "input_path": "__notebook__.ipynb",
      "output_path": "__notebook__.ipynb",
      "parameters": {},
      "start_time": "2020-12-17T20:28:36.170706",
      "version": "2.1.0"
    },
    "widgets": {
      "application/vnd.jupyter.widget-state+json": {}
    },
    "colab": {
      "name": "Sign Language Digits Classification.ipynb",
      "provenance": [],
      "collapsed_sections": [],
      "include_colab_link": true
    }
  },
  "cells": [
    {
      "cell_type": "markdown",
      "metadata": {
        "id": "view-in-github",
        "colab_type": "text"
      },
      "source": [
        "<a href=\"https://colab.research.google.com/github/Boboev/-/blob/master/Sign_Language_Digits_Classification.ipynb\" target=\"_parent\"><img src=\"https://colab.research.google.com/assets/colab-badge.svg\" alt=\"Open In Colab\"/></a>"
      ]
    },
    {
      "cell_type": "markdown",
      "metadata": {
        "id": "nPiUVqAbh79C"
      },
      "source": [
        "Цель проекта заключается в том, чтобы классифицировать цифры, которые показаны на картинках языком жестов.\r\n",
        "\r\n",
        "\r\n",
        "\r\n",
        "План дейстивий:\r\n",
        "\r\n",
        "- Используем нейросетевою модель vgg13\r\n",
        "\r\n",
        "- Предобучаем модель\r\n",
        "\r\n",
        "- Аугментации\r\n",
        "\r\n",
        "- Тест тайм аугментации"
      ]
    },
    {
      "cell_type": "markdown",
      "metadata": {
        "id": "R6HHL6nxj8Nx"
      },
      "source": [
        "Здесь мы импортируем необходимые модули, которые нам понадобятся.Это стандартные модули PyTorch, которые используются регулярно."
      ]
    },
    {
      "cell_type": "code",
      "metadata": {
        "_cell_guid": "79c7e3d0-c299-4dcb-8224-4455121ee9b0",
        "_uuid": "d629ff2d2480ee46fbb7e2d37f6b5fab8052498a",
        "execution": {
          "iopub.execute_input": "2020-12-17T20:28:40.698433Z",
          "iopub.status.busy": "2020-12-17T20:28:40.697668Z",
          "iopub.status.idle": "2020-12-17T20:28:43.258009Z",
          "shell.execute_reply": "2020-12-17T20:28:43.256577Z"
        },
        "papermill": {
          "duration": 2.599515,
          "end_time": "2020-12-17T20:28:43.258160",
          "exception": false,
          "start_time": "2020-12-17T20:28:40.658645",
          "status": "completed"
        },
        "tags": [],
        "id": "8YsmpamKdtU5"
      },
      "source": [
        "import pickle\n",
        "import numpy as np\n",
        "# from skimage import io\n",
        "import torch\n",
        "import os\n",
        "import cv2\n",
        "\n",
        "from tqdm import tqdm, tqdm_notebook\n",
        "from PIL import Image\n",
        "from pathlib import Path\n",
        "\n",
        "from torchvision import datasets, models, transforms\n",
        "from multiprocessing.pool import ThreadPool\n",
        "from sklearn.preprocessing import LabelEncoder\n",
        "from torch.utils.data import Dataset, DataLoader\n",
        "\n",
        "import torch.nn as nn\n",
        "import torch.optim as optim\n",
        "from torch.optim import lr_scheduler\n",
        "from IPython.display import clear_output\n",
        "\n",
        "from matplotlib import colors, pyplot as plt\n",
        "%matplotlib inline\n",
        "\n",
        "import warnings\n",
        "warnings.filterwarnings(action='ignore', category=DeprecationWarning)"
      ],
      "execution_count": 2,
      "outputs": []
    },
    {
      "cell_type": "code",
      "metadata": {
        "execution": {
          "iopub.execute_input": "2020-12-17T20:28:43.309204Z",
          "iopub.status.busy": "2020-12-17T20:28:43.308194Z",
          "iopub.status.idle": "2020-12-17T20:28:43.310925Z",
          "shell.execute_reply": "2020-12-17T20:28:43.311451Z"
        },
        "papermill": {
          "duration": 0.029627,
          "end_time": "2020-12-17T20:28:43.311594",
          "exception": false,
          "start_time": "2020-12-17T20:28:43.281967",
          "status": "completed"
        },
        "tags": [],
        "id": "81ZMXldjdtU8"
      },
      "source": [
        "IMG_SIZE = 100\n"
      ],
      "execution_count": 1,
      "outputs": []
    },
    {
      "cell_type": "markdown",
      "metadata": {
        "id": "_i_8pXC7kSIT"
      },
      "source": [
        "# Загрузка и подготовка набора данных\r\n",
        "В этом разделе мы определим все операции предварительной обработки изображений. Вместе с этим мы загрузим данные  и преобразуем их."
      ]
    },
    {
      "cell_type": "code",
      "metadata": {
        "execution": {
          "iopub.execute_input": "2020-12-17T20:28:43.361956Z",
          "iopub.status.busy": "2020-12-17T20:28:43.361247Z",
          "iopub.status.idle": "2020-12-17T20:28:43.619727Z",
          "shell.execute_reply": "2020-12-17T20:28:43.619188Z"
        },
        "papermill": {
          "duration": 0.285315,
          "end_time": "2020-12-17T20:28:43.619843",
          "exception": false,
          "start_time": "2020-12-17T20:28:43.334528",
          "status": "completed"
        },
        "tags": [],
        "id": "-4uhgGVpdtU9"
      },
      "source": [
        "TRAIN_DIR = Path('../input/sldc/train/train')\n",
        "TEST_DIR = Path('../input/sldc/test/test')\n",
        "\n",
        "train_val_files = sorted(list(TRAIN_DIR.rglob('*.JPG')))\n",
        "test_files = sorted(list(TEST_DIR.rglob('*.JPG')))"
      ],
      "execution_count": null,
      "outputs": []
    },
    {
      "cell_type": "code",
      "metadata": {
        "execution": {
          "iopub.execute_input": "2020-12-17T20:28:43.671392Z",
          "iopub.status.busy": "2020-12-17T20:28:43.670513Z",
          "iopub.status.idle": "2020-12-17T20:28:43.674226Z",
          "shell.execute_reply": "2020-12-17T20:28:43.674741Z"
        },
        "papermill": {
          "duration": 0.032311,
          "end_time": "2020-12-17T20:28:43.674856",
          "exception": false,
          "start_time": "2020-12-17T20:28:43.642545",
          "status": "completed"
        },
        "tags": [],
        "id": "nEK2Ud5IdtU-",
        "outputId": "bd2ac335-06d4-439d-a656-412230c3c501"
      },
      "source": [
        "len(test_files)"
      ],
      "execution_count": null,
      "outputs": [
        {
          "output_type": "execute_result",
          "data": {
            "text/plain": [
              "105"
            ]
          },
          "metadata": {
            "tags": []
          },
          "execution_count": 4
        }
      ]
    },
    {
      "cell_type": "code",
      "metadata": {
        "execution": {
          "iopub.execute_input": "2020-12-17T20:28:43.742869Z",
          "iopub.status.busy": "2020-12-17T20:28:43.742099Z",
          "iopub.status.idle": "2020-12-17T20:28:43.805457Z",
          "shell.execute_reply": "2020-12-17T20:28:43.804782Z"
        },
        "papermill": {
          "duration": 0.108012,
          "end_time": "2020-12-17T20:28:43.805574",
          "exception": false,
          "start_time": "2020-12-17T20:28:43.697562",
          "status": "completed"
        },
        "tags": [],
        "id": "16Xdxz6idtU_"
      },
      "source": [
        "np.random.seed(5)\n",
        "from sklearn.model_selection import train_test_split\n",
        "\n",
        "train_val_labels = [path.parent.name for path in train_val_files]\n",
        "train_files, val_files = train_test_split(train_val_files, test_size=0.2, \\\n",
        "                                          stratify=train_val_labels)"
      ],
      "execution_count": null,
      "outputs": []
    },
    {
      "cell_type": "code",
      "metadata": {
        "execution": {
          "iopub.execute_input": "2020-12-17T20:28:43.867991Z",
          "iopub.status.busy": "2020-12-17T20:28:43.860128Z",
          "iopub.status.idle": "2020-12-17T20:28:43.870845Z",
          "shell.execute_reply": "2020-12-17T20:28:43.870306Z"
        },
        "papermill": {
          "duration": 0.041745,
          "end_time": "2020-12-17T20:28:43.870976",
          "exception": false,
          "start_time": "2020-12-17T20:28:43.829231",
          "status": "completed"
        },
        "tags": [],
        "id": "d3FGYwXZdtVA"
      },
      "source": [
        "class XDataset(Dataset):\n",
        "    def __init__(self, files, mode):\n",
        "        super().__init__()\n",
        "        self.files = sorted(files)\n",
        "        self.mode = mode\n",
        "        self.len_ = len(self.files)     \n",
        "        self.label_encoder = LabelEncoder()\n",
        "        if self.mode != 'test':\n",
        "            self.labels = [path.parent.name for path in self.files]\n",
        "            self.label_encoder.fit(self.labels)\n",
        "            with open('label_encoder.pkl', 'wb') as le_dump_file:\n",
        "                  pickle.dump(self.label_encoder, le_dump_file)\n",
        "                      \n",
        "    def __len__(self):\n",
        "        return self.len_\n",
        "      \n",
        "    def load_sample(self, file):\n",
        "        image = Image.open(file)\n",
        "        image.load()\n",
        "        return image\n",
        "  \n",
        "    def __getitem__(self, index):\n",
        "        transform = transforms.Compose([\n",
        "            transforms.ToTensor(),\n",
        "            transforms.Normalize([0.485, 0.456, 0.406], [0.229, 0.224, 0.225]) \n",
        "        ])\n",
        "        x = self.load_sample(self.files[index])\n",
        "        x = self._prepare_sample(x)\n",
        "        x = np.array(x / 255, dtype='float32')\n",
        "        x = transform(x)\n",
        "        if self.mode == 'test':\n",
        "            return x\n",
        "        else:\n",
        "            label = self.labels[index]\n",
        "            label_id = self.label_encoder.transform([label])\n",
        "            y = label_id.item()\n",
        "            return x, y\n",
        "        \n",
        "    def _prepare_sample(self, image):\n",
        "        image = image.resize((IMG_SIZE, IMG_SIZE))\n",
        "        return np.array(image)"
      ],
      "execution_count": null,
      "outputs": []
    },
    {
      "cell_type": "code",
      "metadata": {
        "execution": {
          "iopub.execute_input": "2020-12-17T20:28:43.942413Z",
          "iopub.status.busy": "2020-12-17T20:28:43.932055Z",
          "iopub.status.idle": "2020-12-17T20:28:43.952123Z",
          "shell.execute_reply": "2020-12-17T20:28:43.951519Z"
        },
        "papermill": {
          "duration": 0.058318,
          "end_time": "2020-12-17T20:28:43.952227",
          "exception": false,
          "start_time": "2020-12-17T20:28:43.893909",
          "status": "completed"
        },
        "tags": [],
        "id": "k3ucmBSAdtVC"
      },
      "source": [
        "test_dataset = XDataset(test_files, mode=\"test\")\n",
        "test_loader = DataLoader(test_dataset, shuffle=False, batch_size=16)\n",
        "\n",
        "train_dataset = XDataset(train_files, mode=\"train\")\n",
        "train_loader = DataLoader(train_dataset, shuffle=False, batch_size=16)\n",
        "\n",
        "val_dataset = XDataset(val_files, mode=\"val\")\n",
        "val_loader = DataLoader(val_dataset, shuffle=False, batch_size=16)"
      ],
      "execution_count": null,
      "outputs": []
    },
    {
      "cell_type": "markdown",
      "metadata": {
        "papermill": {
          "duration": 0.023307,
          "end_time": "2020-12-17T20:28:43.998260",
          "exception": false,
          "start_time": "2020-12-17T20:28:43.974953",
          "status": "completed"
        },
        "tags": [],
        "id": "Cp9c90INdtVD"
      },
      "source": [
        "Проверяем доступности CUDA"
      ]
    },
    {
      "cell_type": "code",
      "metadata": {
        "execution": {
          "iopub.execute_input": "2020-12-17T20:28:44.417394Z",
          "iopub.status.busy": "2020-12-17T20:28:44.416452Z",
          "iopub.status.idle": "2020-12-17T20:28:44.420324Z",
          "shell.execute_reply": "2020-12-17T20:28:44.420877Z"
        },
        "papermill": {
          "duration": 0.399353,
          "end_time": "2020-12-17T20:28:44.421022",
          "exception": false,
          "start_time": "2020-12-17T20:28:44.021669",
          "status": "completed"
        },
        "tags": [],
        "id": "dIY6DCPLdtVD",
        "outputId": "718bafd3-770f-43ce-8c4b-2293abc5f6c7"
      },
      "source": [
        "device = torch.device(\"cuda:0\" if torch.cuda.is_available() else \"cpu\")\n",
        "print(device)"
      ],
      "execution_count": null,
      "outputs": [
        {
          "output_type": "stream",
          "text": [
            "cuda:0\n"
          ],
          "name": "stdout"
        }
      ]
    },
    {
      "cell_type": "markdown",
      "metadata": {
        "papermill": {
          "duration": 0.02302,
          "end_time": "2020-12-17T20:28:44.470388",
          "exception": false,
          "start_time": "2020-12-17T20:28:44.447368",
          "status": "completed"
        },
        "tags": [],
        "id": "JJRQPWCMdtVE"
      },
      "source": [
        "Загружем модел VGG13"
      ]
    },
    {
      "cell_type": "code",
      "metadata": {
        "execution": {
          "iopub.execute_input": "2020-12-17T20:28:44.521711Z",
          "iopub.status.busy": "2020-12-17T20:28:44.520951Z",
          "iopub.status.idle": "2020-12-17T20:29:08.323648Z",
          "shell.execute_reply": "2020-12-17T20:29:08.323073Z"
        },
        "papermill": {
          "duration": 23.83017,
          "end_time": "2020-12-17T20:29:08.323762",
          "exception": false,
          "start_time": "2020-12-17T20:28:44.493592",
          "status": "completed"
        },
        "tags": [],
        "colab": {
          "referenced_widgets": [
            "49bf840d664c4950b35d8f4610258628"
          ]
        },
        "id": "Yn0QbuYmdtVF",
        "outputId": "d8c583f7-0faf-4236-99ec-9d993bf956f6"
      },
      "source": [
        "vgg = models.vgg13(pretrained=True)\n",
        "vgg.to(device)\n",
        "print(vgg)"
      ],
      "execution_count": null,
      "outputs": [
        {
          "output_type": "stream",
          "text": [
            "Downloading: \"https://download.pytorch.org/models/vgg13-c768596a.pth\" to /root/.cache/torch/hub/checkpoints/vgg13-c768596a.pth\n"
          ],
          "name": "stderr"
        },
        {
          "output_type": "display_data",
          "data": {
            "application/vnd.jupyter.widget-view+json": {
              "model_id": "49bf840d664c4950b35d8f4610258628",
              "version_major": 2,
              "version_minor": 0
            },
            "text/plain": [
              "HBox(children=(FloatProgress(value=0.0, max=532194478.0), HTML(value='')))"
            ]
          },
          "metadata": {
            "tags": []
          }
        },
        {
          "output_type": "stream",
          "text": [
            "\n",
            "VGG(\n",
            "  (features): Sequential(\n",
            "    (0): Conv2d(3, 64, kernel_size=(3, 3), stride=(1, 1), padding=(1, 1))\n",
            "    (1): ReLU(inplace=True)\n",
            "    (2): Conv2d(64, 64, kernel_size=(3, 3), stride=(1, 1), padding=(1, 1))\n",
            "    (3): ReLU(inplace=True)\n",
            "    (4): MaxPool2d(kernel_size=2, stride=2, padding=0, dilation=1, ceil_mode=False)\n",
            "    (5): Conv2d(64, 128, kernel_size=(3, 3), stride=(1, 1), padding=(1, 1))\n",
            "    (6): ReLU(inplace=True)\n",
            "    (7): Conv2d(128, 128, kernel_size=(3, 3), stride=(1, 1), padding=(1, 1))\n",
            "    (8): ReLU(inplace=True)\n",
            "    (9): MaxPool2d(kernel_size=2, stride=2, padding=0, dilation=1, ceil_mode=False)\n",
            "    (10): Conv2d(128, 256, kernel_size=(3, 3), stride=(1, 1), padding=(1, 1))\n",
            "    (11): ReLU(inplace=True)\n",
            "    (12): Conv2d(256, 256, kernel_size=(3, 3), stride=(1, 1), padding=(1, 1))\n",
            "    (13): ReLU(inplace=True)\n",
            "    (14): MaxPool2d(kernel_size=2, stride=2, padding=0, dilation=1, ceil_mode=False)\n",
            "    (15): Conv2d(256, 512, kernel_size=(3, 3), stride=(1, 1), padding=(1, 1))\n",
            "    (16): ReLU(inplace=True)\n",
            "    (17): Conv2d(512, 512, kernel_size=(3, 3), stride=(1, 1), padding=(1, 1))\n",
            "    (18): ReLU(inplace=True)\n",
            "    (19): MaxPool2d(kernel_size=2, stride=2, padding=0, dilation=1, ceil_mode=False)\n",
            "    (20): Conv2d(512, 512, kernel_size=(3, 3), stride=(1, 1), padding=(1, 1))\n",
            "    (21): ReLU(inplace=True)\n",
            "    (22): Conv2d(512, 512, kernel_size=(3, 3), stride=(1, 1), padding=(1, 1))\n",
            "    (23): ReLU(inplace=True)\n",
            "    (24): MaxPool2d(kernel_size=2, stride=2, padding=0, dilation=1, ceil_mode=False)\n",
            "  )\n",
            "  (avgpool): AdaptiveAvgPool2d(output_size=(7, 7))\n",
            "  (classifier): Sequential(\n",
            "    (0): Linear(in_features=25088, out_features=4096, bias=True)\n",
            "    (1): ReLU(inplace=True)\n",
            "    (2): Dropout(p=0.5, inplace=False)\n",
            "    (3): Linear(in_features=4096, out_features=4096, bias=True)\n",
            "    (4): ReLU(inplace=True)\n",
            "    (5): Dropout(p=0.5, inplace=False)\n",
            "    (6): Linear(in_features=4096, out_features=1000, bias=True)\n",
            "  )\n",
            ")\n"
          ],
          "name": "stdout"
        }
      ]
    },
    {
      "cell_type": "markdown",
      "metadata": {
        "id": "Pp2RvzMXhr7g"
      },
      "source": [
        "#Замораживание часть веса свертки\r\n",
        "Здесь важно отметить, что модель классификатора классифицирует 1000 классов. Но нам нужно классифицировать изображения только на 10 классов.  Кроме того, мы заморозим не все веса сверточных блоков.  \r\n",
        "\r\n",
        "Следующий блок кода вносит необходимые изменения для классификации 10 классов вместе с замораживанием весов."
      ]
    },
    {
      "cell_type": "code",
      "metadata": {
        "execution": {
          "iopub.execute_input": "2020-12-17T20:29:08.384194Z",
          "iopub.status.busy": "2020-12-17T20:29:08.383323Z",
          "iopub.status.idle": "2020-12-17T20:29:08.388569Z",
          "shell.execute_reply": "2020-12-17T20:29:08.388040Z"
        },
        "papermill": {
          "duration": 0.038524,
          "end_time": "2020-12-17T20:29:08.388665",
          "exception": false,
          "start_time": "2020-12-17T20:29:08.350141",
          "status": "completed"
        },
        "tags": [],
        "id": "gvRvZOMadtVG",
        "outputId": "42e136d3-ad70-4a80-dbee-3bfd54be5a1b"
      },
      "source": [
        "#изменение количества классов\n",
        "vgg.classifier[6].out_features = 10\n",
        "# замораживание часть веса свертки \n",
        "linear = nn.Linear(1,1)\n",
        "\n",
        "for param in linear.parameters():\n",
        "    param.requires_grad = False\n",
        "\n",
        "with torch.no_grad():\n",
        "    linear.eval()\n",
        "    print(linear.weight.requires_grad)\n"
      ],
      "execution_count": null,
      "outputs": [
        {
          "output_type": "stream",
          "text": [
            "False\n"
          ],
          "name": "stdout"
        }
      ]
    },
    {
      "cell_type": "markdown",
      "metadata": {
        "id": "QeziRd7FRCHN"
      },
      "source": [
        "#Оптимизатор и функция потерь\r\n",
        "Мы будем использовать оптимизатор CrossEntropyLoss(), который в большинстве случаев работает довольно хорошо. "
      ]
    },
    {
      "cell_type": "code",
      "metadata": {
        "execution": {
          "iopub.execute_input": "2020-12-17T20:29:08.444798Z",
          "iopub.status.busy": "2020-12-17T20:29:08.443959Z",
          "iopub.status.idle": "2020-12-17T20:29:08.447443Z",
          "shell.execute_reply": "2020-12-17T20:29:08.447895Z"
        },
        "papermill": {
          "duration": 0.034108,
          "end_time": "2020-12-17T20:29:08.448021",
          "exception": false,
          "start_time": "2020-12-17T20:29:08.413913",
          "status": "completed"
        },
        "tags": [],
        "id": "HAu-phoXdtVH"
      },
      "source": [
        "#оптимизатор\n",
        "optimizer = optim.Adam(vgg.classifier.parameters(), lr=0.0003) \n",
        "#функция потерь\n",
        "criterion = nn.CrossEntropyLoss()"
      ],
      "execution_count": null,
      "outputs": []
    },
    {
      "cell_type": "markdown",
      "metadata": {
        "id": "ctpYParORWfi"
      },
      "source": [
        "#Функции обучения и валидации\r\n",
        "Мы напишем здесь два разных метода. Один предназначен для проверки, а другой-для обучения. \r\n",
        "В этом val() методе мы рассчитываем потери и точность. Но мы не возвращаемся к градиентам. Обратное распространение требуется только во время обучения."
      ]
    },
    {
      "cell_type": "code",
      "metadata": {
        "execution": {
          "iopub.execute_input": "2020-12-17T20:29:08.509680Z",
          "iopub.status.busy": "2020-12-17T20:29:08.508724Z",
          "iopub.status.idle": "2020-12-17T20:29:08.513022Z",
          "shell.execute_reply": "2020-12-17T20:29:08.512491Z"
        },
        "papermill": {
          "duration": 0.039962,
          "end_time": "2020-12-17T20:29:08.513135",
          "exception": false,
          "start_time": "2020-12-17T20:29:08.473173",
          "status": "completed"
        },
        "tags": [],
        "id": "QrRLYhvOdtVH"
      },
      "source": [
        "#функция для проверки,вычисляем потери и точность.\n",
        "def val(model, val_loader):\n",
        "    model.eval()\n",
        "    val_running_loss = 0.0\n",
        "    val_running_correct = 0\n",
        "    for int, data in enumerate(val_loader):\n",
        "        data, target = data[0].to(device), data[1].to(device)\n",
        "        output = model(data)\n",
        "        loss = criterion(output, target)\n",
        "        \n",
        "        val_running_loss += loss.item()\n",
        "        _, preds = torch.max(output.data, 1)\n",
        "        val_running_correct += (preds == target).sum().item()\n",
        "    \n",
        "    val_loss = val_running_loss/len(val_loader.dataset)\n",
        "    val_accuracy = 100. * val_running_correct/len(val_loader.dataset)\n",
        "    print(f'Validation Loss: {val_loss:.4f}, Validation Acc: {val_accuracy:.2f}')\n",
        "    \n",
        "    return val_loss, val_accuracy"
      ],
      "execution_count": null,
      "outputs": []
    },
    {
      "cell_type": "markdown",
      "metadata": {
        "id": "BvUk8vjjRqco"
      },
      "source": [
        "Далее мы определим tr() методику обучения. \r\n",
        "В строке 14 tr() метода мы вычисляем градиенты и обратное распространение.\r\n",
        "\r\n",
        "Мы будем обучать и проверять модель в течение 50 эпох. Все это время, оба метода tr(), и val() будет продолжать возвращать потери и значения точности для каждой эпохи.\r\n",
        "\r\n",
        "Давайте потренируем модель на 50 эпох. Для каждой эпохи мы будем называть метод tr() и.val()"
      ]
    },
    {
      "cell_type": "code",
      "metadata": {
        "execution": {
          "iopub.execute_input": "2020-12-17T20:29:08.572894Z",
          "iopub.status.busy": "2020-12-17T20:29:08.572181Z",
          "iopub.status.idle": "2020-12-17T20:29:08.575827Z",
          "shell.execute_reply": "2020-12-17T20:29:08.575370Z"
        },
        "papermill": {
          "duration": 0.037758,
          "end_time": "2020-12-17T20:29:08.575922",
          "exception": false,
          "start_time": "2020-12-17T20:29:08.538164",
          "status": "completed"
        },
        "tags": [],
        "id": "IYbGRrA-dtVI"
      },
      "source": [
        "# функция обучения\n",
        "def tr(model, train_loader):\n",
        "    model.train()\n",
        "    train_running_loss = 0.0\n",
        "    train_running_correct = 0\n",
        "    for i, data in enumerate(train_loader):\n",
        "        data, target = data[0].to(device), data[1].to(device)\n",
        "        optimizer.zero_grad()\n",
        "        output = model(data)\n",
        "        loss = criterion(output, target)\n",
        "        train_running_loss += loss.item()\n",
        "        _, preds = torch.max(output.data, 1)\n",
        "        train_running_correct += (preds == target).sum().item()\n",
        "        loss.backward()\n",
        "        optimizer.step()\n",
        "    train_loss = train_running_loss/len(train_loader.dataset)\n",
        "    train_accuracy = 100. * train_running_correct / len(train_loader.dataset)\n",
        "    print(f'Train Loss: {train_loss:.4f}, Train Acc: {train_accuracy:.2f}')\n",
        "    \n",
        "    return train_loss, train_accuracy"
      ],
      "execution_count": null,
      "outputs": []
    },
    {
      "cell_type": "code",
      "metadata": {
        "execution": {
          "iopub.execute_input": "2020-12-17T20:29:08.635875Z",
          "iopub.status.busy": "2020-12-17T20:29:08.634108Z",
          "iopub.status.idle": "2020-12-17T20:35:55.243647Z",
          "shell.execute_reply": "2020-12-17T20:35:55.244386Z"
        },
        "papermill": {
          "duration": 406.643891,
          "end_time": "2020-12-17T20:35:55.244568",
          "exception": false,
          "start_time": "2020-12-17T20:29:08.600677",
          "status": "completed"
        },
        "tags": [],
        "id": "mRx_2qtFdtVJ",
        "outputId": "cefcc902-ea0e-4139-fdd7-19f66e301a39"
      },
      "source": [
        "#потренируем модель на 50 эпох\n",
        "train_loss , train_accuracy = [], []\n",
        "val_loss , val_accuracy = [], []\n",
        "for epoch in range(50):\n",
        "    print(\"Epoch:\", epoch + 1)\n",
        "    train_epoch_loss, train_epoch_accuracy = tr(vgg, train_loader)\n",
        "    val_epoch_loss, val_epoch_accuracy = val(vgg, val_loader)\n",
        "    train_loss.append(train_epoch_loss)\n",
        "    train_accuracy.append(train_epoch_accuracy)\n",
        "    val_loss.append(val_epoch_loss)\n",
        "    val_accuracy.append(val_epoch_accuracy)"
      ],
      "execution_count": null,
      "outputs": [
        {
          "output_type": "stream",
          "text": [
            "Epoch: 1\n",
            "Train Loss: 0.4358, Train Acc: 38.51\n",
            "Validation Loss: 1.6576, Validation Acc: 9.93\n",
            "Epoch: 2\n",
            "Train Loss: 0.2973, Train Acc: 44.15\n",
            "Validation Loss: 1.0518, Validation Acc: 9.93\n",
            "Epoch: 3\n",
            "Train Loss: 0.1773, Train Acc: 61.37\n",
            "Validation Loss: 0.7272, Validation Acc: 19.85\n",
            "Epoch: 4\n",
            "Train Loss: 0.1266, Train Acc: 64.40\n",
            "Validation Loss: 0.5851, Validation Acc: 21.07\n",
            "Epoch: 5\n",
            "Train Loss: 0.1031, Train Acc: 65.55\n",
            "Validation Loss: 0.6948, Validation Acc: 19.85\n",
            "Epoch: 6\n",
            "Train Loss: 0.0948, Train Acc: 66.34\n",
            "Validation Loss: 0.8620, Validation Acc: 22.28\n",
            "Epoch: 7\n",
            "Train Loss: 0.0937, Train Acc: 71.56\n",
            "Validation Loss: 0.6575, Validation Acc: 19.85\n",
            "Epoch: 8\n",
            "Train Loss: 0.1130, Train Acc: 71.32\n",
            "Validation Loss: 0.4781, Validation Acc: 21.07\n",
            "Epoch: 9\n",
            "Train Loss: 0.0840, Train Acc: 72.16\n",
            "Validation Loss: 0.2451, Validation Acc: 30.51\n",
            "Epoch: 10\n",
            "Train Loss: 0.0820, Train Acc: 69.56\n",
            "Validation Loss: 0.3689, Validation Acc: 29.78\n",
            "Epoch: 11\n",
            "Train Loss: 0.0529, Train Acc: 75.56\n",
            "Validation Loss: 0.3118, Validation Acc: 38.98\n",
            "Epoch: 12\n",
            "Train Loss: 0.0748, Train Acc: 72.47\n",
            "Validation Loss: 0.2346, Validation Acc: 46.25\n",
            "Epoch: 13\n",
            "Train Loss: 0.0591, Train Acc: 75.14\n",
            "Validation Loss: 0.1401, Validation Acc: 61.99\n",
            "Epoch: 14\n",
            "Train Loss: 0.0514, Train Acc: 78.17\n",
            "Validation Loss: 0.1323, Validation Acc: 58.60\n",
            "Epoch: 15\n",
            "Train Loss: 0.0589, Train Acc: 76.41\n",
            "Validation Loss: 0.1743, Validation Acc: 56.90\n",
            "Epoch: 16\n",
            "Train Loss: 0.0472, Train Acc: 81.20\n",
            "Validation Loss: 0.1096, Validation Acc: 67.07\n",
            "Epoch: 17\n",
            "Train Loss: 0.0590, Train Acc: 77.50\n",
            "Validation Loss: 0.1431, Validation Acc: 66.83\n",
            "Epoch: 18\n",
            "Train Loss: 0.0526, Train Acc: 81.93\n",
            "Validation Loss: 0.1263, Validation Acc: 70.94\n",
            "Epoch: 19\n",
            "Train Loss: 0.0433, Train Acc: 83.20\n",
            "Validation Loss: 0.0854, Validation Acc: 73.12\n",
            "Epoch: 20\n",
            "Train Loss: 0.0455, Train Acc: 81.50\n",
            "Validation Loss: 0.0763, Validation Acc: 78.69\n",
            "Epoch: 21\n",
            "Train Loss: 0.0422, Train Acc: 83.02\n",
            "Validation Loss: 0.0773, Validation Acc: 67.31\n",
            "Epoch: 22\n",
            "Train Loss: 0.0531, Train Acc: 73.26\n",
            "Validation Loss: 0.0663, Validation Acc: 72.64\n",
            "Epoch: 23\n",
            "Train Loss: 0.0497, Train Acc: 73.68\n",
            "Validation Loss: 0.0829, Validation Acc: 69.25\n",
            "Epoch: 24\n",
            "Train Loss: 0.0402, Train Acc: 78.84\n",
            "Validation Loss: 0.0554, Validation Acc: 74.09\n",
            "Epoch: 25\n",
            "Train Loss: 0.0385, Train Acc: 78.41\n",
            "Validation Loss: 0.0493, Validation Acc: 78.21\n",
            "Epoch: 26\n",
            "Train Loss: 0.0291, Train Acc: 84.84\n",
            "Validation Loss: 0.0443, Validation Acc: 80.15\n",
            "Epoch: 27\n",
            "Train Loss: 0.0264, Train Acc: 84.84\n",
            "Validation Loss: 0.0380, Validation Acc: 81.36\n",
            "Epoch: 28\n",
            "Train Loss: 0.0238, Train Acc: 85.99\n",
            "Validation Loss: 0.0331, Validation Acc: 87.65\n",
            "Epoch: 29\n",
            "Train Loss: 0.0209, Train Acc: 86.96\n",
            "Validation Loss: 0.0322, Validation Acc: 90.31\n",
            "Epoch: 30\n",
            "Train Loss: 0.0144, Train Acc: 91.51\n",
            "Validation Loss: 0.0267, Validation Acc: 91.77\n",
            "Epoch: 31\n",
            "Train Loss: 0.0130, Train Acc: 92.30\n",
            "Validation Loss: 0.0246, Validation Acc: 92.49\n",
            "Epoch: 32\n",
            "Train Loss: 0.0128, Train Acc: 92.00\n",
            "Validation Loss: 0.0259, Validation Acc: 90.80\n",
            "Epoch: 33\n",
            "Train Loss: 0.0137, Train Acc: 91.69\n",
            "Validation Loss: 0.0236, Validation Acc: 93.46\n",
            "Epoch: 34\n",
            "Train Loss: 0.0079, Train Acc: 96.12\n",
            "Validation Loss: 0.0247, Validation Acc: 93.46\n",
            "Epoch: 35\n",
            "Train Loss: 0.0077, Train Acc: 95.15\n",
            "Validation Loss: 0.0229, Validation Acc: 94.19\n",
            "Epoch: 36\n",
            "Train Loss: 0.0075, Train Acc: 96.36\n",
            "Validation Loss: 0.0288, Validation Acc: 92.25\n",
            "Epoch: 37\n",
            "Train Loss: 0.0133, Train Acc: 94.18\n",
            "Validation Loss: 0.0309, Validation Acc: 92.49\n",
            "Epoch: 38\n",
            "Train Loss: 0.0077, Train Acc: 95.51\n",
            "Validation Loss: 0.0241, Validation Acc: 93.70\n",
            "Epoch: 39\n",
            "Train Loss: 0.0070, Train Acc: 96.42\n",
            "Validation Loss: 0.0226, Validation Acc: 95.64\n",
            "Epoch: 40\n",
            "Train Loss: 0.0036, Train Acc: 98.30\n",
            "Validation Loss: 0.0263, Validation Acc: 93.22\n",
            "Epoch: 41\n",
            "Train Loss: 0.0048, Train Acc: 97.45\n",
            "Validation Loss: 0.0273, Validation Acc: 93.22\n",
            "Epoch: 42\n",
            "Train Loss: 0.0073, Train Acc: 95.94\n",
            "Validation Loss: 0.0264, Validation Acc: 93.70\n",
            "Epoch: 43\n",
            "Train Loss: 0.0057, Train Acc: 97.45\n",
            "Validation Loss: 0.0247, Validation Acc: 93.22\n",
            "Epoch: 44\n",
            "Train Loss: 0.0068, Train Acc: 96.60\n",
            "Validation Loss: 0.0282, Validation Acc: 92.01\n",
            "Epoch: 45\n",
            "Train Loss: 0.0095, Train Acc: 96.48\n",
            "Validation Loss: 0.0279, Validation Acc: 91.77\n",
            "Epoch: 46\n",
            "Train Loss: 0.0057, Train Acc: 97.15\n",
            "Validation Loss: 0.0249, Validation Acc: 93.70\n",
            "Epoch: 47\n",
            "Train Loss: 0.0043, Train Acc: 97.39\n",
            "Validation Loss: 0.0220, Validation Acc: 95.16\n",
            "Epoch: 48\n",
            "Train Loss: 0.0029, Train Acc: 98.54\n",
            "Validation Loss: 0.0241, Validation Acc: 96.13\n",
            "Epoch: 49\n",
            "Train Loss: 0.0026, Train Acc: 98.30\n",
            "Validation Loss: 0.0221, Validation Acc: 95.64\n",
            "Epoch: 50\n",
            "Train Loss: 0.0034, Train Acc: 98.73\n",
            "Validation Loss: 0.0226, Validation Acc: 95.16\n"
          ],
          "name": "stdout"
        }
      ]
    },
    {
      "cell_type": "markdown",
      "metadata": {
        "id": "7IP72oipTEnJ"
      },
      "source": [
        "После каждой эпохи мы сохраняем значения точности обучения и потерь в train_accuracy, train_loss и val_accuracy,val_loss. Мы видим, что к концу тренировки точность нашей тренировки составляет 81.50%.\r\n",
        "\r\n",
        "\r\n",
        "#Визуализация графиков\r\n",
        "Теперь давайте визуализируем графики точности и потерь для лучшего прояснения."
      ]
    },
    {
      "cell_type": "code",
      "metadata": {
        "execution": {
          "iopub.execute_input": "2020-12-17T20:35:55.368417Z",
          "iopub.status.busy": "2020-12-17T20:35:55.367816Z",
          "iopub.status.idle": "2020-12-17T20:35:55.635867Z",
          "shell.execute_reply": "2020-12-17T20:35:55.634489Z"
        },
        "papermill": {
          "duration": 0.331191,
          "end_time": "2020-12-17T20:35:55.635986",
          "exception": false,
          "start_time": "2020-12-17T20:35:55.304795",
          "status": "completed"
        },
        "tags": [],
        "id": "lNnRTk2wdtVK",
        "outputId": "8a8a2a0f-2a13-4625-cf24-04dc810e3155"
      },
      "source": [
        "plt.figure(figsize=(8, 6))\n",
        "plt.plot(train_accuracy, color='red', label='train accuracy')\n",
        "plt.plot(val_accuracy, color='blue', label='validataion accuracy')\n",
        "plt.legend()\n",
        "plt.savefig('accuracy.png')\n",
        "plt.show()"
      ],
      "execution_count": null,
      "outputs": [
        {
          "output_type": "display_data",
          "data": {
            "image/png": "[encoded data removed]",
            "text/plain": [
              "<Figure size 576x432 with 1 Axes>"
            ]
          },
          "metadata": {
            "tags": [],
            "needs_background": "light"
          }
        }
      ]
    },
    {
      "cell_type": "markdown",
      "metadata": {
        "id": "Zk4wPL0GT702"
      },
      "source": [
        "К концу обучения точность обучения превышает точность валидации. В частности, мы получаем около 81.50% обучения и 78.69% точности проверки."
      ]
    },
    {
      "cell_type": "code",
      "metadata": {
        "execution": {
          "iopub.execute_input": "2020-12-17T20:35:55.777202Z",
          "iopub.status.busy": "2020-12-17T20:35:55.775328Z",
          "iopub.status.idle": "2020-12-17T20:35:56.025138Z",
          "shell.execute_reply": "2020-12-17T20:35:56.025701Z"
        },
        "papermill": {
          "duration": 0.326118,
          "end_time": "2020-12-17T20:35:56.025846",
          "exception": false,
          "start_time": "2020-12-17T20:35:55.699728",
          "status": "completed"
        },
        "tags": [],
        "id": "ndrmFIGldtVL",
        "outputId": "df234213-c6e9-42cc-ccdb-64eb1bdf9dc9"
      },
      "source": [
        "plt.figure(figsize=(8, 6))\n",
        "plt.plot(train_loss, color='yellow', label='train loss')\n",
        "plt.plot(val_loss, color='green', label='validataion loss')\n",
        "plt.legend()\n",
        "plt.savefig('loss.png')\n",
        "plt.show()"
      ],
      "execution_count": null,
      "outputs": [
        {
          "output_type": "display_data",
          "data": {
            "image/png": "[encoded data removed]",
            "text/plain": [
              "<Figure size 576x432 with 1 Axes>"
            ]
          },
          "metadata": {
            "tags": [],
            "needs_background": "light"
          }
        }
      ]
    },
    {
      "cell_type": "markdown",
      "metadata": {
        "id": "VcqfZWdIUj3A"
      },
      "source": [
        "График потерь при обучении и валидации"
      ]
    },
    {
      "cell_type": "code",
      "metadata": {
        "execution": {
          "iopub.execute_input": "2020-12-17T20:35:56.159106Z",
          "iopub.status.busy": "2020-12-17T20:35:56.158493Z",
          "iopub.status.idle": "2020-12-17T20:35:56.163029Z",
          "shell.execute_reply": "2020-12-17T20:35:56.162564Z"
        },
        "papermill": {
          "duration": 0.071859,
          "end_time": "2020-12-17T20:35:56.163153",
          "exception": false,
          "start_time": "2020-12-17T20:35:56.091294",
          "status": "completed"
        },
        "tags": [],
        "id": "WamwrXFJdtVL"
      },
      "source": [
        "def test(model, test_loader):\n",
        "    predictions = []\n",
        "    for int, data in enumerate(test_loader):\n",
        "        data = data.to(device)\n",
        "        print(data.shape)\n",
        "        output = model(data)\n",
        "        _, preds = torch.max(output.data, 1)\n",
        "        predictions.extend(preds)\n",
        "    return predictions"
      ],
      "execution_count": null,
      "outputs": []
    },
    {
      "cell_type": "code",
      "metadata": {
        "execution": {
          "iopub.execute_input": "2020-12-17T20:35:56.287388Z",
          "iopub.status.busy": "2020-12-17T20:35:56.286679Z",
          "iopub.status.idle": "2020-12-17T20:35:56.752638Z",
          "shell.execute_reply": "2020-12-17T20:35:56.753306Z"
        },
        "papermill": {
          "duration": 0.530724,
          "end_time": "2020-12-17T20:35:56.753461",
          "exception": false,
          "start_time": "2020-12-17T20:35:56.222737",
          "status": "completed"
        },
        "tags": [],
        "id": "IdTQoagndtVM",
        "outputId": "e09f157b-65d5-4d5b-eeb1-6fe898f7cfc7"
      },
      "source": [
        "p = test(vgg, test_loader)"
      ],
      "execution_count": null,
      "outputs": [
        {
          "output_type": "stream",
          "text": [
            "torch.Size([16, 3, 100, 100])\n",
            "torch.Size([16, 3, 100, 100])\n",
            "torch.Size([16, 3, 100, 100])\n",
            "torch.Size([16, 3, 100, 100])\n",
            "torch.Size([16, 3, 100, 100])\n",
            "torch.Size([16, 3, 100, 100])\n",
            "torch.Size([9, 3, 100, 100])\n"
          ],
          "name": "stdout"
        }
      ]
    },
    {
      "cell_type": "code",
      "metadata": {
        "execution": {
          "iopub.execute_input": "2020-12-17T20:35:56.881787Z",
          "iopub.status.busy": "2020-12-17T20:35:56.881126Z",
          "iopub.status.idle": "2020-12-17T20:35:56.888051Z",
          "shell.execute_reply": "2020-12-17T20:35:56.887560Z"
        },
        "papermill": {
          "duration": 0.072916,
          "end_time": "2020-12-17T20:35:56.888170",
          "exception": false,
          "start_time": "2020-12-17T20:35:56.815254",
          "status": "completed"
        },
        "tags": [],
        "id": "SvpfYkY_dtVN"
      },
      "source": [
        "out = []\n",
        "for val in p:\n",
        "    val = val.cpu().numpy()\n",
        "    out.append(int(val))"
      ],
      "execution_count": null,
      "outputs": []
    },
    {
      "cell_type": "code",
      "metadata": {
        "execution": {
          "iopub.execute_input": "2020-12-17T20:35:57.022187Z",
          "iopub.status.busy": "2020-12-17T20:35:57.020271Z",
          "iopub.status.idle": "2020-12-17T20:35:57.024738Z",
          "shell.execute_reply": "2020-12-17T20:35:57.024189Z"
        },
        "papermill": {
          "duration": 0.075921,
          "end_time": "2020-12-17T20:35:57.024838",
          "exception": false,
          "start_time": "2020-12-17T20:35:56.948917",
          "status": "completed"
        },
        "tags": [],
        "id": "vqBNAnm6dtVN",
        "outputId": "ab49a711-b6dc-46c9-9cb6-d38bf1f89dc1"
      },
      "source": [
        "print(out)\n",
        "test_labels = [0, 0, 1, 9, 9, 9, 9, 0, 1, 1, 1, 1, 2, 2, 2, 2, 2, 0, 3, 3, 3, 3, 4, \n",
        "               4, 4, 4, 4, 5, 0, 5, 5, 5, 5, 6, 6, 6, 6, 6, 6, 0, 7, 7, 7, 7, 7, 8, \n",
        "               8, 8, 8, 8, 0, 9, 9, 9, 9, 9, 0, 0, 0, 0, 0, 0, 1, 1, 1, 1, 1, 2, 2, \n",
        "               2, 2, 2, 0, 3, 3, 3, 3, 3, 4, 4, 4, 4, 4, 0, 5, 5, 5, 5, 6, 6, 6, 6, \n",
        "               6, 7, 0, 7, 7, 7, 7, 8, 8, 8, 8, 8, 9]"
      ],
      "execution_count": null,
      "outputs": [
        {
          "output_type": "stream",
          "text": [
            "[0, 0, 1, 9, 9, 9, 9, 0, 1, 1, 1, 1, 1, 1, 1, 6, 6, 0, 3, 3, 3, 3, 4, 4, 4, 6, 4, 5, 0, 5, 5, 5, 5, 6, 6, 4, 6, 4, 4, 0, 4, 4, 4, 4, 7, 9, 4, 8, 8, 4, 0, 9, 9, 9, 9, 9, 0, 0, 0, 0, 0, 0, 1, 1, 1, 1, 1, 2, 2, 2, 6, 6, 0, 3, 5, 9, 3, 3, 4, 6, 4, 4, 4, 0, 5, 5, 5, 9, 4, 6, 6, 6, 6, 4, 0, 4, 9, 4, 6, 8, 8, 9, 8, 8, 9]\n"
          ],
          "name": "stdout"
        }
      ]
    },
    {
      "cell_type": "code",
      "metadata": {
        "execution": {
          "iopub.execute_input": "2020-12-17T20:35:57.270805Z",
          "iopub.status.busy": "2020-12-17T20:35:57.269685Z",
          "iopub.status.idle": "2020-12-17T20:35:57.278778Z",
          "shell.execute_reply": "2020-12-17T20:35:57.277925Z"
        },
        "papermill": {
          "duration": 0.137276,
          "end_time": "2020-12-17T20:35:57.278940",
          "exception": false,
          "start_time": "2020-12-17T20:35:57.141664",
          "status": "completed"
        },
        "tags": [],
        "id": "HvljmIxfdtVO",
        "outputId": "188da6c2-eb9a-48c4-fe93-f1802f31fa2c"
      },
      "source": [
        "cnt = 0\n",
        "for i in range(len(out)):\n",
        "    if out[i] == test_labels[i]:\n",
        "        cnt += 1\n",
        "\n",
        "print(cnt)"
      ],
      "execution_count": null,
      "outputs": [
        {
          "output_type": "stream",
          "text": [
            "76\n"
          ],
          "name": "stdout"
        }
      ]
    },
    {
      "cell_type": "code",
      "metadata": {
        "execution": {
          "iopub.execute_input": "2020-12-17T20:35:57.465979Z",
          "iopub.status.busy": "2020-12-17T20:35:57.465066Z",
          "iopub.status.idle": "2020-12-17T20:35:57.466848Z",
          "shell.execute_reply": "2020-12-17T20:35:57.467623Z"
        },
        "papermill": {
          "duration": 0.099616,
          "end_time": "2020-12-17T20:35:57.467796",
          "exception": false,
          "start_time": "2020-12-17T20:35:57.368180",
          "status": "completed"
        },
        "tags": [],
        "id": "9giqlL7sdtVP"
      },
      "source": [
        "test_filenames = [path.name for path in test_dataset.files]"
      ],
      "execution_count": null,
      "outputs": []
    },
    {
      "cell_type": "code",
      "metadata": {
        "execution": {
          "iopub.execute_input": "2020-12-17T20:35:57.656255Z",
          "iopub.status.busy": "2020-12-17T20:35:57.655262Z",
          "iopub.status.idle": "2020-12-17T20:35:58.040176Z",
          "shell.execute_reply": "2020-12-17T20:35:58.039576Z"
        },
        "papermill": {
          "duration": 0.480053,
          "end_time": "2020-12-17T20:35:58.040326",
          "exception": false,
          "start_time": "2020-12-17T20:35:57.560273",
          "status": "completed"
        },
        "tags": [],
        "id": "6Tdz3CqZdtVP"
      },
      "source": [
        "import pandas as pd\n",
        "df = pd.DataFrame()\n",
        "df['id'] = test_filenames\n",
        "df['labels'] = out\n",
        "df.to_csv('predictions.csv', index=False)"
      ],
      "execution_count": null,
      "outputs": []
    },
    {
      "cell_type": "code",
      "metadata": {
        "execution": {
          "iopub.execute_input": "2020-12-17T20:35:58.199806Z",
          "iopub.status.busy": "2020-12-17T20:35:58.198936Z",
          "iopub.status.idle": "2020-12-17T20:35:58.207114Z",
          "shell.execute_reply": "2020-12-17T20:35:58.207641Z"
        },
        "papermill": {
          "duration": 0.090505,
          "end_time": "2020-12-17T20:35:58.207766",
          "exception": false,
          "start_time": "2020-12-17T20:35:58.117261",
          "status": "completed"
        },
        "tags": [],
        "id": "_0XZEj02dtVQ",
        "outputId": "d3badc3a-589f-494c-9bbf-bae4d47943ba"
      },
      "source": [
        "df"
      ],
      "execution_count": null,
      "outputs": [
        {
          "output_type": "execute_result",
          "data": {
            "text/html": [
              "<div>\n",
              "<style scoped>\n",
              "    .dataframe tbody tr th:only-of-type {\n",
              "        vertical-align: middle;\n",
              "    }\n",
              "\n",
              "    .dataframe tbody tr th {\n",
              "        vertical-align: top;\n",
              "    }\n",
              "\n",
              "    .dataframe thead th {\n",
              "        text-align: right;\n",
              "    }\n",
              "</style>\n",
              "<table border=\"1\" class=\"dataframe\">\n",
              "  <thead>\n",
              "    <tr style=\"text-align: right;\">\n",
              "      <th></th>\n",
              "      <th>id</th>\n",
              "      <th>labels</th>\n",
              "    </tr>\n",
              "  </thead>\n",
              "  <tbody>\n",
              "    <tr>\n",
              "      <th>0</th>\n",
              "      <td>img0.JPG</td>\n",
              "      <td>0</td>\n",
              "    </tr>\n",
              "    <tr>\n",
              "      <th>1</th>\n",
              "      <td>img1.JPG</td>\n",
              "      <td>0</td>\n",
              "    </tr>\n",
              "    <tr>\n",
              "      <th>2</th>\n",
              "      <td>img10.JPG</td>\n",
              "      <td>1</td>\n",
              "    </tr>\n",
              "    <tr>\n",
              "      <th>3</th>\n",
              "      <td>img100.JPG</td>\n",
              "      <td>9</td>\n",
              "    </tr>\n",
              "    <tr>\n",
              "      <th>4</th>\n",
              "      <td>img101.JPG</td>\n",
              "      <td>9</td>\n",
              "    </tr>\n",
              "    <tr>\n",
              "      <th>...</th>\n",
              "      <td>...</td>\n",
              "      <td>...</td>\n",
              "    </tr>\n",
              "    <tr>\n",
              "      <th>100</th>\n",
              "      <td>img95.JPG</td>\n",
              "      <td>8</td>\n",
              "    </tr>\n",
              "    <tr>\n",
              "      <th>101</th>\n",
              "      <td>img96.JPG</td>\n",
              "      <td>9</td>\n",
              "    </tr>\n",
              "    <tr>\n",
              "      <th>102</th>\n",
              "      <td>img97.JPG</td>\n",
              "      <td>8</td>\n",
              "    </tr>\n",
              "    <tr>\n",
              "      <th>103</th>\n",
              "      <td>img98.JPG</td>\n",
              "      <td>8</td>\n",
              "    </tr>\n",
              "    <tr>\n",
              "      <th>104</th>\n",
              "      <td>img99.JPG</td>\n",
              "      <td>9</td>\n",
              "    </tr>\n",
              "  </tbody>\n",
              "</table>\n",
              "<p>105 rows × 2 columns</p>\n",
              "</div>"
            ],
            "text/plain": [
              "             id  labels\n",
              "0      img0.JPG       0\n",
              "1      img1.JPG       0\n",
              "2     img10.JPG       1\n",
              "3    img100.JPG       9\n",
              "4    img101.JPG       9\n",
              "..          ...     ...\n",
              "100   img95.JPG       8\n",
              "101   img96.JPG       9\n",
              "102   img97.JPG       8\n",
              "103   img98.JPG       8\n",
              "104   img99.JPG       9\n",
              "\n",
              "[105 rows x 2 columns]"
            ]
          },
          "metadata": {
            "tags": []
          },
          "execution_count": 24
        }
      ]
    },
    {
      "cell_type": "markdown",
      "metadata": {
        "id": "ftQ0O5ibVXf6"
      },
      "source": [
        "#Заключение\r\n",
        "Мы получаем довольно хорошие результаты, но можем добиться еще большего. Мы настроили и смоделировали значения VGG13 и получили еще большую точность.  Начали заморозить некоторые слои и обучить некоторые другие. "
      ]
    }
  ]
}